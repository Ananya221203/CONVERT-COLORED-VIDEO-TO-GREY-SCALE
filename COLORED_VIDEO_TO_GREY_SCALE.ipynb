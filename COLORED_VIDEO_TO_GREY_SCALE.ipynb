{
  "nbformat": 4,
  "nbformat_minor": 0,
  "metadata": {
    "colab": {
      "provenance": [],
      "authorship_tag": "ABX9TyNGisltZi102l0ehPh5HMIG",
      "include_colab_link": true
    },
    "kernelspec": {
      "name": "python3",
      "display_name": "Python 3"
    },
    "language_info": {
      "name": "python"
    }
  },
  "cells": [
    {
      "cell_type": "markdown",
      "metadata": {
        "id": "view-in-github",
        "colab_type": "text"
      },
      "source": [
        "<a href=\"https://colab.research.google.com/github/Ananya221203/CONVERT-COLORED-VIDEO-TO-GREY-SCALE/blob/main/COLORED_VIDEO_TO_GREY_SCALE.ipynb\" target=\"_parent\"><img src=\"https://colab.research.google.com/assets/colab-badge.svg\" alt=\"Open In Colab\"/></a>"
      ]
    },
    {
      "cell_type": "markdown",
      "source": [
        "**CONVERT  COLORED VIDEO TO GREY SCALE**"
      ],
      "metadata": {
        "id": "cKzVkxci7oOk"
      }
    },
    {
      "cell_type": "code",
      "execution_count": null,
      "metadata": {
        "colab": {
          "base_uri": "https://localhost:8080/"
        },
        "id": "lD2aK-H-zQKw",
        "outputId": "bf5499a1-1641-473f-c29a-bc530133e17c"
      },
      "outputs": [
        {
          "output_type": "stream",
          "name": "stdout",
          "text": [
            "Requirement already satisfied: opencv-python-headless in /usr/local/lib/python3.10/dist-packages (4.10.0.84)\n",
            "Requirement already satisfied: numpy>=1.21.2 in /usr/local/lib/python3.10/dist-packages (from opencv-python-headless) (1.25.2)\n"
          ]
        }
      ],
      "source": [
        "pip install opencv-python-headless\n"
      ]
    },
    {
      "cell_type": "code",
      "source": [
        "import cv2\n",
        "\n",
        "def convert_to_grayscale(input_video_path, output_video_path):\n",
        "    # Open the input video file\n",
        "    video_capture = cv2.VideoCapture(input_video_path)\n",
        "\n",
        "    # Get the video properties\n",
        "    frame_width = int(video_capture.get(cv2.CAP_PROP_FRAME_WIDTH))\n",
        "    frame_height = int(video_capture.get(cv2.CAP_PROP_FRAME_HEIGHT))\n",
        "    fps = int(video_capture.get(cv2.CAP_PROP_FPS))\n",
        "    total_frames = int(video_capture.get(cv2.CAP_PROP_FRAME_COUNT))\n",
        "\n",
        "    # Define the codec and create VideoWriter object\n",
        "    fourcc = cv2.VideoWriter_fourcc(*'XVID')\n",
        "    out = cv2.VideoWriter(output_video_path, fourcc, fps, (frame_width, frame_height), isColor=False)\n",
        "\n",
        "    print(f\"Converting {input_video_path} to grayscale...\")\n",
        "\n",
        "    # Process each frame\n",
        "    frame_count = 0\n",
        "    while True:\n",
        "        ret, frame = video_capture.read()\n",
        "        if not ret:\n",
        "            break\n",
        "\n",
        "        # Convert frame to grayscale\n",
        "        gray_frame = cv2.cvtColor(frame, cv2.COLOR_BGR2GRAY)\n",
        "\n",
        "        # Write grayscale frame to output video\n",
        "        out.write(gray_frame)\n",
        "\n",
        "        frame_count += 1\n",
        "        print(f\"Processed frame {frame_count}/{total_frames}\", end='\\r')\n",
        "\n",
        "    print(\"\\nConversion completed.\")\n",
        "\n",
        "    # Release input and output video objects\n",
        "    video_capture.release()\n",
        "    out.release()\n",
        "    cv2.destroyAllWindows()\n",
        "\n",
        "if __name__ == \"__main__\":\n",
        "    input_video_path = '/content/cartoon .mp4'    # Replace with your input video file path\n",
        "    output_video_path = '/content/VIDEO1.MP4.mp4'  # Replace with your desired output video file path\n",
        "\n",
        "    convert_to_grayscale(input_video_path, output_video_path)\n"
      ],
      "metadata": {
        "colab": {
          "base_uri": "https://localhost:8080/"
        },
        "id": "TQPZLpAU1-SG",
        "outputId": "842d4799-6550-478a-d9ef-31c8312fcfc1"
      },
      "execution_count": 6,
      "outputs": [
        {
          "output_type": "stream",
          "name": "stdout",
          "text": [
            "Converting /content/cartoon .mp4 to grayscale...\n",
            "Processed frame 1791/1791\n",
            "Conversion completed.\n"
          ]
        }
      ]
    }
  ]
}